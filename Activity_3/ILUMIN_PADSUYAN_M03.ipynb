{
 "cells": [
  {
   "metadata": {},
   "cell_type": "markdown",
   "source": "# Midterm Activity 3 Logistic Regression",
   "id": "1ff83432dd35e645"
  },
  {
   "metadata": {},
   "cell_type": "markdown",
   "source": "### Logistic Regression Model Development",
   "id": "dc2a51ebd754a9f3"
  },
  {
   "metadata": {
    "collapsed": true,
    "ExecuteTime": {
     "end_time": "2025-06-19T15:52:44.661110Z",
     "start_time": "2025-06-19T15:52:44.658567Z"
    }
   },
   "cell_type": "code",
   "outputs": [],
   "execution_count": null,
   "source": "",
   "id": "initial_id"
  }
 ],
 "metadata": {
  "kernelspec": {
   "display_name": "Python 3",
   "language": "python",
   "name": "python3"
  },
  "language_info": {
   "codemirror_mode": {
    "name": "ipython",
    "version": 2
   },
   "file_extension": ".py",
   "mimetype": "text/x-python",
   "name": "python",
   "nbconvert_exporter": "python",
   "pygments_lexer": "ipython2",
   "version": "2.7.6"
  }
 },
 "nbformat": 4,
 "nbformat_minor": 5
}
